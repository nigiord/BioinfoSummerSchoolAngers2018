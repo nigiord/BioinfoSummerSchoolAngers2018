{
 "cells": [
  {
   "cell_type": "markdown",
   "metadata": {
    "toc": true
   },
   "source": [
    "<h1>Table of Contents<span class=\"tocSkip\"></span></h1>\n",
    "<div class=\"toc\"><ul class=\"toc-item\"><li><span><a href=\"#Microbial-ecological-network-inference\" data-toc-modified-id=\"Microbial-ecological-network-inference-1\"><span class=\"toc-item-num\">1&nbsp;&nbsp;</span>Microbial ecological network inference</a></span><ul class=\"toc-item\"><li><span><a href=\"#STEP-1:-R-packages-installation\" data-toc-modified-id=\"STEP-1:-R-packages-installation-1.1\"><span class=\"toc-item-num\">1.1&nbsp;&nbsp;</span>STEP 1: R packages installation</a></span></li><li><span><a href=\"#STEP-2:-get-and-load-data-!\" data-toc-modified-id=\"STEP-2:-get-and-load-data-!-1.2\"><span class=\"toc-item-num\">1.2&nbsp;&nbsp;</span>STEP 2: get and load data !</a></span></li><li><span><a href=\"#STEP-3:-data-filtering\" data-toc-modified-id=\"STEP-3:-data-filtering-1.3\"><span class=\"toc-item-num\">1.3&nbsp;&nbsp;</span>STEP 3: data filtering</a></span></li><li><span><a href=\"#STEP-4:-SPIEC-EASI-run\" data-toc-modified-id=\"STEP-4:-SPIEC-EASI-run-1.4\"><span class=\"toc-item-num\">1.4&nbsp;&nbsp;</span>STEP 4: SPIEC-EASI run</a></span></li><li><span><a href=\"#STEP-5:-Graphs-visualizations\" data-toc-modified-id=\"STEP-5:-Graphs-visualizations-1.5\"><span class=\"toc-item-num\">1.5&nbsp;&nbsp;</span>STEP 5: Graphs visualizations</a></span></li><li><span><a href=\"#STEP-6:-Exercice\" data-toc-modified-id=\"STEP-6:-Exercice-1.6\"><span class=\"toc-item-num\">1.6&nbsp;&nbsp;</span>STEP 6: Exercice</a></span></li></ul></li></ul></div>"
   ]
  },
  {
   "cell_type": "markdown",
   "metadata": {},
   "source": [
    "Authors: Samuel Chaffron and Nils Giordano\n",
    "\n",
    "With credits to Marko Budinich, Erwan Delage, Zachary Kurtz, and Karoline Faust"
   ]
  },
  {
   "cell_type": "markdown",
   "metadata": {},
   "source": [
    "# Microbial ecological network inference"
   ]
  },
  {
   "cell_type": "markdown",
   "metadata": {},
   "source": [
    "SPIEC-EASI (SParse InversE Covariance Estimation for Ecological Association\n",
    "Inference) exploits the fact that under certain assumptions (that all relevant\n",
    "variables are being considered and the data are multivariate normally\n",
    "distributed), the inverse covariance matrix corresponds to a network without\n",
    "indirect edges. SPIEC-EASI estimates the inverse covariance\n",
    "matrix from sequencing data. The inference of networks using the inverse\n",
    "covariance matrix is also known in the literature as Graphical Gaussian model\n",
    "and the inverse covariance matrix is also referred to as precision or partial\n",
    "correlation matrix. SPIEC-EASI is implemented in R, for further details about\n",
    "SPIEC-EASI, please check the associated publication:\n",
    "http://journals.plos.org/ploscompbiol/article?id=10.1371/journal.pcbi.1004226"
   ]
  },
  {
   "cell_type": "markdown",
   "metadata": {},
   "source": [
    "## STEP 1: R packages installation"
   ]
  },
  {
   "cell_type": "code",
   "execution_count": null,
   "metadata": {},
   "outputs": [],
   "source": [
    "# SPIEC-EASI R package installation (https://github.com/zdk123/SpiecEasi)\n",
    "library(devtools)\n",
    "library(huge)\n",
    "#install_github(\"zdk123/SpiecEasi\")\n",
    "library(SpiecEasi)\n",
    "# Phyloseq installation\n",
    "library(gtools)\n",
    "#source('http://bioconductor.org/biocLite.R')\n",
    "#biocLite('phyloseq')\n",
    "library(phyloseq)\n",
    "# iGraph installation\n",
    "library(Matrix)\n",
    "library(igraph)"
   ]
  },
  {
   "cell_type": "markdown",
   "metadata": {},
   "source": [
    "## STEP 2: get and load data !\n",
    "\n",
    "http://ocean-microbiome.embl.de/companion.html\n",
    "\n",
    "Using the Tara miTAGs 16S data both OTUs and taxonomy files have already been\n",
    "formatted, you find them in the SPIEC-EASI folder:\n",
    "\n",
    "- OTU table: `miTAG.taxonomic.profiles.release.OTUtable.tsv`\n",
    "- TAX table: `miTAG.taxonomic.profiles.release.TAXtable.tsv`"
   ]
  },
  {
   "cell_type": "code",
   "execution_count": null,
   "metadata": {},
   "outputs": [],
   "source": [
    "DIR = 'Data/'\n",
    "\n",
    "# Load abundance matrix\n",
    "otumat = read.csv(paste(DIR,\"miTAG.taxonomic.profiles.release.OTUtable.tsv\",sep=\"\"),\n",
    "                  sep=\"\\t\", row.names=1, check.names=FALSE)\n",
    "taxmat = read.csv(paste(DIR,\"miTAG.taxonomic.profiles.release.TAXtable.tsv\",sep=\"\"),\n",
    "                  sep=\"\\t\", row.names=1, check.names=FALSE)\n",
    "otus = otu_table(otumat, taxa_are_rows = TRUE)\n",
    "taxa = tax_table(as.matrix(taxmat))\n",
    "mat = phyloseq(otus, taxa)\n",
    "\n",
    "# OTUs as columns\n",
    "totus = t(otus)"
   ]
  },
  {
   "cell_type": "markdown",
   "metadata": {},
   "source": [
    "## STEP 3: data filtering\n",
    "\n",
    "It is common practice to pre-filter your OTU data by relative abudance cut-off\n",
    "and/or prevalence, study the 2 functions below"
   ]
  },
  {
   "cell_type": "code",
   "execution_count": null,
   "metadata": {},
   "outputs": [],
   "source": [
    "# function to perform pre-filtering on OTU with low abundance relative to total abundance\n",
    "# OTUS with an abundance lower than 0.01% of total abundance are removed from the table\n",
    "low.count.removal = function(\n",
    "  data, # OTU count data frame of size n (sample) x p (OTU)\n",
    "  percent=0.01 # cutoff chosen\n",
    "){\n",
    "  keep.otu = which(colSums(data)*100/(sum(colSums(data))) > percent)\n",
    "  data.filter = data[,keep.otu]\n",
    "  return(list(data.filter = data.filter, keep.otu = keep.otu))\n",
    "}\n",
    "\n",
    "# function to perform pre-filtering on OTU with low presence across stations\n",
    "# OTUS that appears in less than 5% of stations are removed from the table\n",
    "min.stations.removal = function(\n",
    "  data, # OTU count data frame of size n (sample) x p (OTU)\n",
    "  percent=0.05 # cutoff chosen\n",
    "){\n",
    "  keep.otu = which(colSums(data != 0) > percent * dim(data)[1])\n",
    "  data.filter = data[,keep.otu]\n",
    "  return(list(data.filter = data.filter, keep.otu = keep.otu))\n",
    "}\n",
    "\n",
    "\n",
    "# Initialize thresholds (in %)\n",
    "thresholdAbundance = 0.1\n",
    "thresholdPresence = 0.6\n",
    "\n",
    "# Remove OTUs with relative abundance lower than 0.1% of total abundance\n",
    "cat(\"NB stations :\",dim(totus)[1],\"\\n\")\n",
    "cat(\"NB otus before abundance filter :\",dim(totus)[2],\"\\n\")\n",
    "nbOtusInitial = dim(totus)[2]\n",
    "\n",
    "ftr = low.count.removal(totus, thresholdAbundance)\n",
    "totus = totus[,ftr$keep.otu]\n",
    "nbOtusAfterAbFilter = dim(totus)[2]\n",
    "cat(\"NB otus after abundance filter :\",nbOtusAfterAbFilter,\"\\n\")\n",
    "\n",
    "# Filter OTU's on presence in minimum number of stations\n",
    "ftr = min.stations.removal(totus,thresholdPresence)\n",
    "totus = totus[,ftr$keep.otu]\n",
    "nbOtusAfterPrFilter = dim(totus)[2]\n",
    "cat(\"NB otus after presence filter :\",nbOtusAfterPrFilter,\"\\n\")\n",
    "\n",
    "# update phyloseq object after filtering\n",
    "otus = otu_table(totus, taxa_are_rows = F)\n",
    "taxa = tax_table(as.matrix(taxa[colnames(otus),]))\n",
    "physeqo = phyloseq(t(otus), taxa)"
   ]
  },
  {
   "cell_type": "markdown",
   "metadata": {},
   "source": [
    "## STEP 4: SPIEC-EASI run"
   ]
  },
  {
   "cell_type": "code",
   "execution_count": null,
   "metadata": {},
   "outputs": [],
   "source": [
    "# SPIEC-EASI default parameters\n",
    "nc = 10\n",
    "lambda.min.ratio = 1e-2 #!!!\n",
    "nlambda = 20\n",
    "rep.num = 20\n",
    "stars.thresh = 0.05  ##!!! or 0.1 (for details see function huge.select from R package huge)\n",
    "\n",
    "# SPIEC-EASI run\n",
    "physeqo.mb = spiec.easi(physeqo, method='mb', lambda.min.ratio=lambda.min.ratio, nlambda=nlambda, icov.select.params=list(stars.thresh = stars.thresh, rep.num=rep.num, ncores=nc))\n",
    "print(physeqo.mb)\n",
    "# The above example does not cover all possible options and parameters. For\n",
    "# example, other generative network models are available, the lambda.min.ratio\n",
    "# (the scaling factor that determines the minimum sparsity/lambda parameter)\n",
    "# shown here might not be right for your dataset. Additionally, increasing the\n",
    "# rep.num argument (the number of StARS subsamples) may result in better\n",
    "# performance.\n",
    "\n",
    "# Build iGraph object\n",
    "# Extract the regression coefficients from the SPIEC-EASI\n",
    "# output, which for method mb is achieved with command getOptBeta. The\n",
    "# regression coefficient matrix is not symmetric and can be symmetrised with\n",
    "# command symBeta\n",
    "adj   = physeqo.mb\n",
    "adj.g = adj2igraph(symBeta(getOptBeta(adj), mode='maxabs'), vertex.attr=list(name=taxa_names(physeqo)))\n",
    "hist(E(adj.g)$weight)"
   ]
  },
  {
   "cell_type": "markdown",
   "metadata": {},
   "source": [
    "## STEP 5: Graphs visualizations"
   ]
  },
  {
   "cell_type": "code",
   "execution_count": null,
   "metadata": {},
   "outputs": [],
   "source": [
    "## Using iGraph\n",
    "## set size of vertex proportional to clr-mean\n",
    "vsize <- rowMeans(clr(otus, 1))+3\n",
    "## set layout\n",
    "am.coord <- layout_with_graphopt(adj.g)\n",
    "plot(adj.g, layout=am.coord, vertex.size=vsize, vertex.label=NA, vertex.color=\"aquamarine2\", edge.color=\"black\", edge.width=E(adj.g)$weight, main=\"Tara euphotic network\")\n",
    "# degree stats\n",
    "dd.mb <- degree.distribution(adj.g)\n",
    "plot(0:(length(dd.mb)-1), dd.mb, ylim=c(0,.35), type='b',\n",
    "     ylab=\"Frequency\", xlab=\"Degree\", main=\"Degree Distributions\")\n",
    "\n",
    "## Using phyloseq\n",
    "pdf(paste(DIR,\"SPIEC-EASI.networks.pdf\",sep=\"\"), paper = \"a4r\", width=29, height=21)\n",
    "plot_network(adj.g, taxa, type='taxa', color=\"Genus\", label=NULL)\n",
    "plot_network(adj.g, taxa, type='taxa', color=\"Class\", label=NULL)\n",
    "plot_network(adj.g, taxa, type='taxa', color=\"Phylum\", label=NULL)\n",
    "dev.off()\n",
    "\n",
    "# Export graph\n",
    "write_graph(adj.g, paste(DIR,\"Tara.SUR.DCM.genus.merged16S.graphml\",sep=\"\"), format=\"graphml\")"
   ]
  },
  {
   "cell_type": "markdown",
   "metadata": {},
   "source": [
    "## STEP 6: Exercice\n",
    "\n",
    "Extract the number of positive and negative associations inferred by SPIEC-EASI.\n",
    "\n",
    "They can be obtained from the matrix of regression coefficients stored in the adjancency matrix (adj.g)"
   ]
  },
  {
   "cell_type": "code",
   "execution_count": null,
   "metadata": {},
   "outputs": [],
   "source": [
    "# YOUR CODE HERE"
   ]
  },
  {
   "cell_type": "code",
   "execution_count": null,
   "metadata": {},
   "outputs": [],
   "source": []
  }
 ],
 "metadata": {
  "kernelspec": {
   "display_name": "R",
   "language": "R",
   "name": "ir"
  },
  "language_info": {
   "codemirror_mode": "r",
   "file_extension": ".r",
   "mimetype": "text/x-r-source",
   "name": "R",
   "pygments_lexer": "r",
   "version": "3.4.3"
  },
  "toc": {
   "base_numbering": 1,
   "nav_menu": {},
   "number_sections": true,
   "sideBar": true,
   "skip_h1_title": false,
   "title_cell": "Table of Contents",
   "title_sidebar": "Contents",
   "toc_cell": true,
   "toc_position": {},
   "toc_section_display": true,
   "toc_window_display": false
  },
  "varInspector": {
   "cols": {
    "lenName": 16,
    "lenType": 16,
    "lenVar": 40
   },
   "kernels_config": {
    "python": {
     "delete_cmd_postfix": "",
     "delete_cmd_prefix": "del ",
     "library": "var_list.py",
     "varRefreshCmd": "print(var_dic_list())"
    },
    "r": {
     "delete_cmd_postfix": ") ",
     "delete_cmd_prefix": "rm(",
     "library": "var_list.r",
     "varRefreshCmd": "cat(var_dic_list()) "
    }
   },
   "types_to_exclude": [
    "module",
    "function",
    "builtin_function_or_method",
    "instance",
    "_Feature"
   ],
   "window_display": false
  }
 },
 "nbformat": 4,
 "nbformat_minor": 2
}
